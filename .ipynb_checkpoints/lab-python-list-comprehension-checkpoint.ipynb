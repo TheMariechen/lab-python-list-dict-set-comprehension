{
 "cells": [
  {
   "cell_type": "markdown",
   "id": "25d7736c-ba17-4aff-b6bb-66eba20fbf4e",
   "metadata": {},
   "source": [
    "# Lab | List, Dict and Set Comprehension"
   ]
  },
  {
   "cell_type": "markdown",
   "id": "7dd3cbde-675a-4b81-92c3-f728846dbe06",
   "metadata": {},
   "source": [
    "## Exercise: Managing Customer Orders Optimized with Comprehension"
   ]
  },
  {
   "cell_type": "markdown",
   "id": "5d500160-2fb7-4777-b5e4-09d45ebaf328",
   "metadata": {},
   "source": [
    "In the previous exercise, you developed a program to manage customer orders and inventory. Now, let's take it a step further and incorporate comprehension into your code.\n",
    "\n",
    "Follow the steps below to complete the exercise: **!IMPORTANT - 1 is intro and example! follow the next steps for each to be modified function!**\n",
    "\n",
    "1. Review your code from the previous exercise and identify areas where you can apply comprehension to simplify and streamline your code. \n",
    "\n",
    "    - *Hint: Apply it to initialize inventory, updating the inventory and printing the updated inventory.* -- apply to all!!!! \n",
    "    \n",
    "    - For example, in initializing the inventory, we could have:\n",
    "    \n",
    "        ```python\n",
    "        def initialize_inventory(products):\n",
    "            inventory = {product: int(input(f\"Enter the quantity of {product}s available: \")) for product in products}\n",
    "            return inventory\n",
    "\n",
    "        ```\n",
    "<br>\n",
    "       \n",
    "2. Modify the function get_customer_orders so it prompts the user to enter the number of customer orders and gathers the product names using a loop and user input. Use comprehension.\n",
    "\n",
    "3. Add a new function to calculate the total price of the customer order. For each product in customer_orders, prompt the user to enter the price of that product. Use comprehension to calculate the total price. Note: assume that the user can only have 1 unit of each product.\n",
    "\n",
    "4. Modify the update_inventory function to remove the product from the inventory if its quantity becomes zero after fulfilling the customer orders. Use comprehension to filter out the products with a quantity of zero from the inventory.\n",
    "\n",
    "5. Print the total price of the customer order.\n",
    "\n",
    "Your code should produce output similar to the following:\n",
    "\n",
    "```python\n",
    "Enter the quantity of t-shirts available:  5\n",
    "Enter the quantity of mugs available:  4\n",
    "Enter the quantity of hats available:  3\n",
    "Enter the quantity of books available:  2\n",
    "Enter the quantity of keychains available:  1\n",
    "Enter the number of customer orders:  2\n",
    "Enter the name of a product that a customer wants to order:  hat\n",
    "Enter the name of a product that a customer wants to order:  keychain\n",
    "\n",
    "Order Statistics:\n",
    "Total Products Ordered: 2\n",
    "Percentage of Unique Products Ordered: 40.0\n",
    "\n",
    "Updated Inventory:\n",
    "t-shirt: 5\n",
    "mug: 4\n",
    "hat: 2\n",
    "book: 2\n",
    "Enter the price of keychain:  5\n",
    "Enter the price of hat:  10\n",
    "Total Price: 15.0\n",
    "\n",
    "```\n"
   ]
  },
  {
   "cell_type": "code",
   "execution_count": 3,
   "id": "93bf6918-1435-4f9e-b254-a6e4faff5a58",
   "metadata": {},
   "outputs": [],
   "source": [
    "products = [\"t-shirt\", \"mug\", \"hat\", \"book\", \"keychain\"]\n",
    "inventory = {}"
   ]
  },
  {
   "cell_type": "code",
   "execution_count": 21,
   "id": "ef949c35-2d5c-4d1b-8725-d9b795e9eb32",
   "metadata": {},
   "outputs": [],
   "source": [
    "# 1. example of initialize inventory \n",
    "def initialize_inventory(products):\n",
    "    inventory = {product: int(input(f\"Enter the quantity of {product}s available: \")) for product in products}\n",
    "    return inventory"
   ]
  },
  {
   "cell_type": "code",
   "execution_count": 23,
   "id": "8eadf488-3827-4213-ba36-a4cd8c1db1d8",
   "metadata": {},
   "outputs": [
    {
     "name": "stdin",
     "output_type": "stream",
     "text": [
      "Enter the quantity of t-shirts available:  5\n",
      "Enter the quantity of mugs available:  5\n",
      "Enter the quantity of hats available:  5\n",
      "Enter the quantity of books available:  5\n",
      "Enter the quantity of keychains available:  5\n"
     ]
    },
    {
     "data": {
      "text/plain": [
       "{'t-shirt': 5, 'mug': 5, 'hat': 5, 'book': 5, 'keychain': 5}"
      ]
     },
     "execution_count": 23,
     "metadata": {},
     "output_type": "execute_result"
    }
   ],
   "source": [
    "inventory_values = initialize_inventory(products)\n",
    "inventory_values\n",
    "# {'t-shirt': 5, 'mug': 5, 'hat': 5, 'book': 5, 'keychain': 5}"
   ]
  },
  {
   "cell_type": "markdown",
   "id": "b4653cd3-cbb0-4c6e-841d-ce7103570107",
   "metadata": {},
   "source": [
    "2. Modify the function get_customer_orders so it prompts the user to enter the number of customer orders and gathers the product names using a loop and user input. Use comprehension."
   ]
  },
  {
   "cell_type": "code",
   "execution_count": 25,
   "id": "e7715634-5404-4a69-86df-19a8e0578748",
   "metadata": {},
   "outputs": [],
   "source": [
    "# modified comprehension version of customer orders (done with Rami)\n",
    "def mod_get_customer_orders():\n",
    "    mod_customer_orders = {input(\"Enter the name of the product: \") for x in range(int(input(\"Please enter number of orders:\")))} \n",
    "    return mod_customer_orders"
   ]
  },
  {
   "cell_type": "code",
   "execution_count": 27,
   "id": "a344ed6f-9b64-4503-8696-d5c9a7f874cd",
   "metadata": {},
   "outputs": [
    {
     "name": "stdin",
     "output_type": "stream",
     "text": [
      "Please enter number of orders: 3\n",
      "Enter the name of the product:  mug\n",
      "Enter the name of the product:  hat\n",
      "Enter the name of the product:  book\n"
     ]
    },
    {
     "data": {
      "text/plain": [
       "{'book', 'hat', 'mug'}"
      ]
     },
     "execution_count": 27,
     "metadata": {},
     "output_type": "execute_result"
    }
   ],
   "source": [
    "mod_customer_orders_values = mod_get_customer_orders()\n",
    "mod_customer_orders_values\n",
    "# {'book', 'hat', 'mug'}"
   ]
  },
  {
   "cell_type": "markdown",
   "id": "f8ab9664-1bfd-486d-b6af-bf09d90bdf2f",
   "metadata": {},
   "source": [
    "3. Add a new function to calculate the total price of the customer order. For each product in customer_orders, prompt the user to enter the price of that product. Use comprehension to calculate the total price. Note: assume that the user can only have 1 unit of each product."
   ]
  },
  {
   "cell_type": "code",
   "execution_count": 29,
   "id": "15b27cf0-158a-421e-a97d-b7c151b10057",
   "metadata": {},
   "outputs": [],
   "source": [
    "def calculate_total_price(customer_orders):\n",
    "    total_price = sum(float(input(f\"Enter the price of {product}: \")) for product in customer_orders)\n",
    "    return total_price"
   ]
  },
  {
   "cell_type": "code",
   "execution_count": 31,
   "id": "dbfbc7aa-3631-47a1-aec8-ba90b256202e",
   "metadata": {},
   "outputs": [
    {
     "name": "stdin",
     "output_type": "stream",
     "text": [
      "Enter the price of book:  15\n",
      "Enter the price of mug:  8\n",
      "Enter the price of hat:  20\n"
     ]
    },
    {
     "data": {
      "text/plain": [
       "43.0"
      ]
     },
     "execution_count": 31,
     "metadata": {},
     "output_type": "execute_result"
    }
   ],
   "source": [
    "total_price_values = calculate_total_price(mod_customer_orders_values)\n",
    "total_price_values\n",
    "# Enter the price of book:  15\n",
    "# Enter the price of mug:  8\n",
    "# Enter the price of hat:  20\n",
    "# 43.0"
   ]
  },
  {
   "cell_type": "markdown",
   "id": "f22f0e87-5573-4a5a-a3b6-99995a687781",
   "metadata": {},
   "source": [
    "4. Modify the update_inventory function to remove the product from the inventory if its quantity becomes zero after fulfilling the customer orders. Use comprehension to filter out the products with a quantity of zero from the inventory."
   ]
  },
  {
   "cell_type": "code",
   "execution_count": 35,
   "id": "4429fa5d-3707-48b0-b143-d669ab269635",
   "metadata": {},
   "outputs": [
    {
     "data": {
      "text/plain": [
       "{'t-shirt': 5, 'mug': 4, 'hat': 4, 'book': 4, 'keychain': 5}"
      ]
     },
     "execution_count": 35,
     "metadata": {},
     "output_type": "execute_result"
    }
   ],
   "source": [
    "def update_inventory(customer_orders, inventory):\n",
    "    ui = {product:(quantity-1 if product in customer_orders else quantity) for product, quantity in inventory.items()}\n",
    "    \"\"\" ui1 substracts one from cust-orders, otherwise leaves quantity as it is, ui2 one only to keep the ones with values above zero \n",
    "    \"\"\"\n",
    "    ui2 = {product:quantity for product, quantity in ui.items() if quantity > 0}  # if at the end cos no else present \n",
    "\n",
    "    return ui2\n",
    "\n",
    "upint_values = update_inventory(mod_customer_orders_values, inventory_values)\n",
    "upint_values\n",
    "# {'t-shirt': 5, 'mug': 4, 'hat': 4, 'book': 4, 'keychain': 5}"
   ]
  },
  {
   "cell_type": "markdown",
   "id": "7a5185d7-9155-4fa1-bcaa-325b8e69ecde",
   "metadata": {},
   "source": [
    "5. Print the total price of the customer order."
   ]
  },
  {
   "cell_type": "code",
   "execution_count": 39,
   "id": "dfef6f1b-4b43-439a-b6cb-5ac68ca9f8d7",
   "metadata": {},
   "outputs": [
    {
     "name": "stdout",
     "output_type": "stream",
     "text": [
      "The total price of your order is 43.0. Thank you for your purchase!\n"
     ]
    }
   ],
   "source": [
    "def print_total_price(total_price):\n",
    "    print(f\"The total price of your order is {total_price_values}. Thank you for your purchase!\")\n",
    "\n",
    "print_total_price(total_price_values)\n",
    "# The total price of your order is 43.0. Thank you for your purchase!"
   ]
  },
  {
   "cell_type": "markdown",
   "id": "85709ee6-5895-4aaa-8e53-23b5c48237f1",
   "metadata": {},
   "source": [
    "I did the last exercise completely by myself!!!"
   ]
  }
 ],
 "metadata": {
  "kernelspec": {
   "display_name": "Python [conda env:base] *",
   "language": "python",
   "name": "conda-base-py"
  },
  "language_info": {
   "codemirror_mode": {
    "name": "ipython",
    "version": 3
   },
   "file_extension": ".py",
   "mimetype": "text/x-python",
   "name": "python",
   "nbconvert_exporter": "python",
   "pygments_lexer": "ipython3",
   "version": "3.12.7"
  }
 },
 "nbformat": 4,
 "nbformat_minor": 5
}
